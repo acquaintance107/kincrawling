{
 "cells": [
  {
   "cell_type": "markdown",
   "id": "298b3f56-e006-482e-9f37-57661c730d6d",
   "metadata": {},
   "source": [
    "# 1. Data Collection"
   ]
  },
  {
   "cell_type": "markdown",
   "id": "b3f20e6f-9336-4f7d-86bc-e33baceb95fb",
   "metadata": {},
   "source": [
    "## 1.1 Crawling Url"
   ]
  },
  {
   "cell_type": "code",
   "execution_count": 4,
   "id": "cfd65b05-904f-4afe-a804-75a4523bb73a",
   "metadata": {
    "tags": []
   },
   "outputs": [
    {
     "name": "stderr",
     "output_type": "stream",
     "text": [
      "<ipython-input-4-0725bdbe0d32>:13: DeprecationWarning: executable_path has been deprecated, please pass in a Service object\n",
      "  driver = webdriver.Chrome(chromedriver_dir)\n"
     ]
    },
    {
     "name": "stdout",
     "output_type": "stream",
     "text": [
      "&period=2020.01.01.%7C2020.01.31.\n",
      "&period=2020.02.01.%7C2020.02.29.\n",
      "&period=2020.03.01.%7C2020.03.31.\n",
      "&period=2020.04.01.%7C2020.04.30.\n",
      "&period=2020.05.01.%7C2020.05.31.\n",
      "&period=2020.06.01.%7C2020.06.30.\n",
      "&period=2020.07.01.%7C2020.07.31.\n",
      "&period=2020.08.01.%7C2020.08.31.\n",
      "&period=2020.09.01.%7C2020.09.30.\n",
      "&period=2020.10.01.%7C2020.10.31.\n",
      "&period=2020.11.01.%7C2020.11.30.\n",
      "&period=2020.12.01.%7C2020.12.31.\n"
     ]
    }
   ],
   "source": [
    "#crawling urls from the search result by each page\n",
    "#adjusted from https://github.com/catSirup/naver_kin_crawling\n",
    "from selenium import webdriver\n",
    "from bs4 import BeautifulSoup\n",
    "from datetime import datetime, timedelta\n",
    "import time\n",
    "import requests\n",
    "from selenium.webdriver.common.by import By\n",
    "\n",
    "  \n",
    "def url_crawl(st, end, year):\n",
    "    chromedriver_dir = r'chromedriver.exe'\n",
    "    driver = webdriver.Chrome(chromedriver_dir)\n",
    "\n",
    "    MAX_SLEEP_TIME = 1\n",
    "    driver.get('https://kin.naver.com/search/list.nhn?query=재활용')\n",
    "    rand_value = randint(1, 3)\n",
    "    time.sleep(rand_value)\n",
    "\n",
    "    page_index = 1\n",
    "    period_txt = \"&period=\" + st + \".%7C\" + end + \".\"\n",
    "\n",
    "    date = str(datetime.now()).replace('.', '_')\n",
    "    date = date.replace(' ', '_')\n",
    "    \n",
    "    with open(year+\"_url_list.txt\", 'a') as f:\n",
    "        print(period_txt)\n",
    "        page_url = []\n",
    "        while True:\n",
    "            rand_value = randint(1, 3)\n",
    "            time.sleep(rand_value)\n",
    "            url = 'https://kin.naver.com/search/list.nhn?' + \"&sort=date\" + '&query=재활용' + period_txt + \"&section=kin\" + \"&page=\" + str(page_index)\n",
    "            driver.get(url)\n",
    "            html = driver.page_source\n",
    "            soup = BeautifulSoup(html, 'html.parser')\n",
    "\n",
    "            tags = soup.find_all('a', class_=\"_nclicks:kin.txt _searchListTitleAnchor\")\n",
    "            for tag in tags:\n",
    "                url = str(tag).split(' ')[3]\n",
    "                url = url.replace('href=', \"\")\n",
    "                url = url.replace('\"', \"\")\n",
    "                url = url.replace('amp;', '')\n",
    "                page_url.append(url)\n",
    "                f.write(url + \"\\n\")\n",
    "\n",
    "            driver.implicitly_wait(15)\n",
    "            post_number = driver.find_element(By.CLASS_NAME,'number').text\n",
    "            post_number = str(post_number).replace(\"(\", \"\")\n",
    "            post_number = str(post_number).replace(\")\", \"\")\n",
    "\n",
    "            current_number = post_number.split('/')[0].split('-')[1]\n",
    "            current_number = current_number.replace(',', '')\n",
    "            total_number = post_number.split('/')[1]\n",
    "            total_number = total_number.replace(',', '')\n",
    "\n",
    "            if int(current_number) == int(total_number):\n",
    "                break\n",
    "            else:\n",
    "                page_index += 1\n",
    "\n",
    "'''#getting search results from year 2017~2021\n",
    "std = ['01.01','02.01','03.01','04.01','05.01','06.01','07.01','08.01','09.01','10.01','11.01','12.01']\n",
    "endd = ['01.31','02.28','03.31','04.30','05.31','06.30','07.31','08.31','09.30','10.31','11.30','12.31']\n",
    "year = ['2017.','2018.','2019.','2021.']\n",
    "for y in year:\n",
    "    for st, end in zip(std, endd):\n",
    "        url_crawl(y+st, y+end, y)'''\n",
    "        \n",
    "# 2020 is a leap year    \n",
    "std = ['01.01','02.01','03.01','04.01','05.01','06.01','07.01','08.01','09.01','10.01','11.01','12.01']\n",
    "endd = ['01.31','02.29','03.31','04.30','05.31','06.30','07.31','08.31','09.30','10.31','11.30','12.31']\n",
    "y = '2020.'\n",
    "for st, end in zip(std, endd):\n",
    "    url_crawl(y+st, y+end, y[:-1])"
   ]
  },
  {
   "cell_type": "markdown",
   "id": "f4bdc131-ddc0-4872-adb6-45e31e10950d",
   "metadata": {},
   "source": [
    "## 1.2 Crawling data from Urls"
   ]
  },
  {
   "cell_type": "code",
   "execution_count": 6,
   "id": "d4c990f0-158a-42a9-a5c1-de8cad49893d",
   "metadata": {},
   "outputs": [],
   "source": [
    "import glob, os\n",
    "\n",
    "file_list = ['2017_url_list.txt','2018_url_list.txt','2019_url_list.txt','2020_url_list.txt','2021_url_list.txt']\n",
    "\n",
    "with open('merge.txt', 'w') as outfile:\n",
    "    for filename in file_list:\n",
    "        with open(filename) as file:\n",
    "            for line in file:\n",
    "                outfile.write(line)"
   ]
  },
  {
   "cell_type": "code",
   "execution_count": null,
   "id": "fafe1893-dc53-4ec8-8075-3c73e3feb5f0",
   "metadata": {
    "tags": []
   },
   "outputs": [],
   "source": [
    "#crawl questions from each url\n",
    "import random\n",
    "import pandas as pd\n",
    "import time\n",
    "from tqdm import tqdm\n",
    "\n",
    "chromedriver_dir = r'chromedriver.exe'\n",
    "driver = webdriver.Chrome(chromedriver_dir)\n",
    "\n",
    "count = 0\n",
    "MAX_SLEEP_TIME = 4\n",
    "tl = [] #title list\n",
    "dl=[] #date list\n",
    "ql=[] #question list\n",
    "\n",
    "with open('merge.txt','r') as f:\n",
    "    page_url = f.readlines()\n",
    "    \n",
    "for i in tqdm(page_url):\n",
    "    rand_value = randint(1, MAX_SLEEP_TIME)\n",
    "    time.sleep(rand_value)\n",
    "    driver.get(i[:-1])\n",
    "    \n",
    "    try:\n",
    "        nav = driver.find_element(By.XPATH, '//*[@id=\"au_lnb\"]/li[2]/a')\n",
    "    except:\n",
    "        continue\n",
    "        \n",
    "    aria = nav.get_attribute('aria-current')\n",
    "    if aria != 'page':\n",
    "        continue\n",
    "    \n",
    "    title = driver.find_element(By.CLASS_NAME,'title').text\n",
    "    try:\n",
    "        question_txt = driver.find_element(By.CLASS_NAME,'c-heading__content').text\n",
    "        date = driver.find_element(By.CLASS_NAME,'c-userinfo__info').text     \n",
    "    except:\n",
    "        question_txt = \"\"\n",
    "        date = \"\"\n",
    "        \n",
    "    tl.append(title)\n",
    "    dl.append(date)\n",
    "    ql.append(question_txt)\n",
    "    \n",
    "df = pd.DataFrame(columns=['date', 'title','question'])\n",
    "df['date'] = dl\n",
    "df['title'] = tl\n",
    "df['question'] = ql\n",
    "\n",
    "df.to_csv('data_2017_2021.csv')"
   ]
  },
  {
   "cell_type": "markdown",
   "id": "0560749e-ecb2-408a-aca9-8fbbbad97ff5",
   "metadata": {},
   "source": [
    "# 2. Data Preprocessing"
   ]
  },
  {
   "cell_type": "markdown",
   "id": "3bc790e9-dbb2-4d06-beba-5cfa97ede129",
   "metadata": {},
   "source": [
    "## 2.1 Data Preparation"
   ]
  },
  {
   "cell_type": "code",
   "execution_count": 2,
   "id": "a0cf89b9-32f6-4344-acf8-2798826abc6e",
   "metadata": {},
   "outputs": [],
   "source": [
    "import pandas as pd "
   ]
  },
  {
   "cell_type": "code",
   "execution_count": 3,
   "id": "8ad6631d-a928-46d6-8180-af6d89a5591b",
   "metadata": {},
   "outputs": [],
   "source": [
    "df = pd.read_csv('data_2017_2021.csv')"
   ]
  },
  {
   "cell_type": "code",
   "execution_count": 68,
   "id": "9dec2c44-d077-489d-acad-dd4ed129b866",
   "metadata": {},
   "outputs": [],
   "source": [
    "date = df['date'].to_list()\n",
    "year = []\n",
    "\n",
    "for i in range(len(date)):\n",
    "    date[i] = str(date[i]).replace('작성일\\n','')\n",
    "    year.append(date[i][:4])\n",
    "\n",
    "df['date'] = date\n",
    "df['year'] = year\n",
    "df = df[['year','date','title','question']]"
   ]
  },
  {
   "cell_type": "code",
   "execution_count": 69,
   "id": "86e90c01-5a15-4b5f-952a-a1aa632bb8ca",
   "metadata": {},
   "outputs": [
    {
     "data": {
      "text/html": [
       "<div>\n",
       "<style scoped>\n",
       "    .dataframe tbody tr th:only-of-type {\n",
       "        vertical-align: middle;\n",
       "    }\n",
       "\n",
       "    .dataframe tbody tr th {\n",
       "        vertical-align: top;\n",
       "    }\n",
       "\n",
       "    .dataframe thead th {\n",
       "        text-align: right;\n",
       "    }\n",
       "</style>\n",
       "<table border=\"1\" class=\"dataframe\">\n",
       "  <thead>\n",
       "    <tr style=\"text-align: right;\">\n",
       "      <th></th>\n",
       "      <th>year</th>\n",
       "      <th>date</th>\n",
       "      <th>title</th>\n",
       "      <th>question</th>\n",
       "    </tr>\n",
       "  </thead>\n",
       "  <tbody>\n",
       "    <tr>\n",
       "      <th>0</th>\n",
       "      <td>2017</td>\n",
       "      <td>2017.02.01</td>\n",
       "      <td>닭 기름 요리</td>\n",
       "      <td>삼겹살 기름으로 김치볶음밥을 만들 수 있는데\\n닭 기름은 어떤 요리에 쓰일 수 있나...</td>\n",
       "    </tr>\n",
       "    <tr>\n",
       "      <th>1</th>\n",
       "      <td>2017</td>\n",
       "      <td>2017.01.31</td>\n",
       "      <td>우체국택배</td>\n",
       "      <td>제가 우체국을한번도안가봐서 궁금한게많네요ㅠ\\n밑에 질문에 답변 부탁드려요\\n\\n1 ...</td>\n",
       "    </tr>\n",
       "    <tr>\n",
       "      <th>2</th>\n",
       "      <td>2017</td>\n",
       "      <td>2017.01.31</td>\n",
       "      <td>GTA5랑 오버워치 렉 없이 할 수 있을까요?</td>\n",
       "      <td>\\n\\n\\n 이 컴퓨터로 GTA5랑 오버워치 렉 없이 할 수 있을까요?\\n아니면 ...</td>\n",
       "    </tr>\n",
       "    <tr>\n",
       "      <th>3</th>\n",
       "      <td>2017</td>\n",
       "      <td>2017.01.31</td>\n",
       "      <td>생쌀은 음식물 쓰레기인가요?</td>\n",
       "      <td>생쌀및 잡곡류가 음식물 쓰레기인가요?\\n오래된 쌀과 잡곡이 있는데 버려야해요\\n찾아...</td>\n",
       "    </tr>\n",
       "    <tr>\n",
       "      <th>4</th>\n",
       "      <td>2017</td>\n",
       "      <td>2017.01.31</td>\n",
       "      <td>영어 한문장 해석좀요</td>\n",
       "      <td>in your opinion, is the following statement tr...</td>\n",
       "    </tr>\n",
       "    <tr>\n",
       "      <th>...</th>\n",
       "      <td>...</td>\n",
       "      <td>...</td>\n",
       "      <td>...</td>\n",
       "      <td>...</td>\n",
       "    </tr>\n",
       "    <tr>\n",
       "      <th>62193</th>\n",
       "      <td>2021</td>\n",
       "      <td>2021.11.30</td>\n",
       "      <td>폴란드 벨라루스 난민 문제에 대해 알려주세요!</td>\n",
       "      <td>자세하게 빨리부탁드려요!!</td>\n",
       "    </tr>\n",
       "    <tr>\n",
       "      <th>62194</th>\n",
       "      <td>2021</td>\n",
       "      <td>2021.11.30</td>\n",
       "      <td>친환경 제품을 사용하는나라</td>\n",
       "      <td>친환경 제품을 사용하는 나라가 어디어디 있는지 궁금해요. 어떤 나라가있나요?</td>\n",
       "    </tr>\n",
       "    <tr>\n",
       "      <th>62195</th>\n",
       "      <td>2021</td>\n",
       "      <td>2021.11.30</td>\n",
       "      <td>스치로풀 페기처리질문</td>\n",
       "      <td>벽 외벽에 단열제로 붙어있는\\n스치로풀 처리방법좀\\n알려주세요 뽀개서 자른후\\n페기...</td>\n",
       "    </tr>\n",
       "    <tr>\n",
       "      <th>62196</th>\n",
       "      <td>2021</td>\n",
       "      <td>2021.11.30</td>\n",
       "      <td>분리되는 벤치프레스 의자 버리는법 (사진있음)</td>\n",
       "      <td>이런식으로  되어있는건데 운동기구들은 뭐 스티커 붙혀서 버려야한다는데 이런식으로 분...</td>\n",
       "    </tr>\n",
       "    <tr>\n",
       "      <th>62197</th>\n",
       "      <td>2021</td>\n",
       "      <td>2021.11.30</td>\n",
       "      <td>수원-&gt;안양 이사 비용</td>\n",
       "      <td>수원 인계동 7층 -&gt; 안양 비산동 2층으로 이사합니다\\n둘다 엘베 있고 혼자 살아...</td>\n",
       "    </tr>\n",
       "  </tbody>\n",
       "</table>\n",
       "<p>62198 rows × 4 columns</p>\n",
       "</div>"
      ],
      "text/plain": [
       "       year        date                      title  \\\n",
       "0      2017  2017.02.01                    닭 기름 요리   \n",
       "1      2017  2017.01.31                      우체국택배   \n",
       "2      2017  2017.01.31  GTA5랑 오버워치 렉 없이 할 수 있을까요?   \n",
       "3      2017  2017.01.31            생쌀은 음식물 쓰레기인가요?   \n",
       "4      2017  2017.01.31                영어 한문장 해석좀요   \n",
       "...     ...         ...                        ...   \n",
       "62193  2021  2021.11.30  폴란드 벨라루스 난민 문제에 대해 알려주세요!   \n",
       "62194  2021  2021.11.30             친환경 제품을 사용하는나라   \n",
       "62195  2021  2021.11.30                스치로풀 페기처리질문   \n",
       "62196  2021  2021.11.30  분리되는 벤치프레스 의자 버리는법 (사진있음)   \n",
       "62197  2021  2021.11.30               수원->안양 이사 비용   \n",
       "\n",
       "                                                question  \n",
       "0      삼겹살 기름으로 김치볶음밥을 만들 수 있는데\\n닭 기름은 어떤 요리에 쓰일 수 있나...  \n",
       "1      제가 우체국을한번도안가봐서 궁금한게많네요ㅠ\\n밑에 질문에 답변 부탁드려요\\n\\n1 ...  \n",
       "2       \\n\\n\\n 이 컴퓨터로 GTA5랑 오버워치 렉 없이 할 수 있을까요?\\n아니면 ...  \n",
       "3      생쌀및 잡곡류가 음식물 쓰레기인가요?\\n오래된 쌀과 잡곡이 있는데 버려야해요\\n찾아...  \n",
       "4      in your opinion, is the following statement tr...  \n",
       "...                                                  ...  \n",
       "62193                                     자세하게 빨리부탁드려요!!  \n",
       "62194         친환경 제품을 사용하는 나라가 어디어디 있는지 궁금해요. 어떤 나라가있나요?  \n",
       "62195  벽 외벽에 단열제로 붙어있는\\n스치로풀 처리방법좀\\n알려주세요 뽀개서 자른후\\n페기...  \n",
       "62196  이런식으로  되어있는건데 운동기구들은 뭐 스티커 붙혀서 버려야한다는데 이런식으로 분...  \n",
       "62197  수원 인계동 7층 -> 안양 비산동 2층으로 이사합니다\\n둘다 엘베 있고 혼자 살아...  \n",
       "\n",
       "[62198 rows x 4 columns]"
      ]
     },
     "execution_count": 69,
     "metadata": {},
     "output_type": "execute_result"
    }
   ],
   "source": [
    "df"
   ]
  },
  {
   "cell_type": "code",
   "execution_count": 75,
   "id": "fc93ed94-62ce-4b50-8713-e53a7d087dee",
   "metadata": {},
   "outputs": [],
   "source": [
    "df17 = df[df['year'] =='2017']\n",
    "df18 = df[df['year'] =='2018']\n",
    "df19 = df[df['year'] =='2019']\n",
    "df20 = df[df['year'] =='2020']\n",
    "df21 = df[df['year'] =='2021']"
   ]
  },
  {
   "cell_type": "code",
   "execution_count": 77,
   "id": "3a8a0211-daf3-4779-8367-2cfcfb97f6d2",
   "metadata": {},
   "outputs": [],
   "source": [
    "#drop duplicated data & delete data with wrong dates\n",
    "def df_mod(df, year):\n",
    "    #drop duplicates\n",
    "    df = df.drop_duplicates(['title'])\n",
    "    df = df.drop_duplicates(['question'])\n",
    "    df = df.reset_index()\n",
    "    df = df[['date','title','question']]\n",
    "    \n",
    "    #drop wrong dates\n",
    "    dl = df['date'].to_list()\n",
    "    for i in range(len(dl)):\n",
    "        #dl[i] = str(dl[i])[4:]\n",
    "        if dl[i][:4] != year:\n",
    "            dl[i] = 'notyear'\n",
    "    df['date'] = dl\n",
    "    \n",
    "    return df\n",
    "\n",
    "df17 = df_mod(df17,'2017')\n",
    "df18 = df_mod(df18,'2018')\n",
    "df19 = df_mod(df19,'2019')\n",
    "df20 = df_mod(df20,'2020')\n",
    "df21 = df_mod(df21,'2021')"
   ]
  },
  {
   "cell_type": "code",
   "execution_count": 78,
   "id": "23d09b6e-bb06-4846-99be-1a26adc0180b",
   "metadata": {},
   "outputs": [
    {
     "name": "stdout",
     "output_type": "stream",
     "text": [
      "6127\n",
      "3897\n",
      "5231\n",
      "8578\n",
      "8281\n"
     ]
    }
   ],
   "source": [
    "# dataframe length by year after dropping\n",
    "print(len(df17)-len(df17[df17['date']=='notyear']))\n",
    "print(len(df18)-len(df18[df18['date']=='notyear']))\n",
    "print(len(df19)-len(df19[df19['date']=='notyear']))\n",
    "print(len(df20)-len(df20[df20['date']=='notyear']))\n",
    "print(len(df21)-len(df21[df21['date']=='notyear']))"
   ]
  },
  {
   "cell_type": "code",
   "execution_count": 80,
   "id": "5fe364f8-0fad-4ca7-a6ad-8b89e5042d29",
   "metadata": {},
   "outputs": [],
   "source": [
    "d17 = df17[df17['date']!='notyear']\n",
    "d18 = df18[df18['date']!='notyear']\n",
    "d19 = df19[df19['date']!='notyear']\n",
    "d20 = df20[df20['date']!='notyear']\n",
    "d21 = df21[df21['date']!='notyear']"
   ]
  },
  {
   "cell_type": "code",
   "execution_count": 285,
   "id": "bcb5e919-0aa5-4086-b606-f83f49feb92b",
   "metadata": {},
   "outputs": [],
   "source": [
    "d17.to_csv('d17.csv')\n",
    "d18.to_csv('d18.csv')\n",
    "d19.to_csv('d19.csv')\n",
    "d20.to_csv('d20.csv')\n",
    "d21.to_csv('d21.csv')"
   ]
  },
  {
   "cell_type": "code",
   "execution_count": 81,
   "id": "0fa22317-c7f1-43d7-b2f3-eab012d766aa",
   "metadata": {},
   "outputs": [],
   "source": [
    "#combine title data with question data\n",
    "d17['add'] = d17['title']+' '+ d17['question']\n",
    "d18['add'] = d18['title']+' '+ d18['question']\n",
    "d19['add'] = d19['title']+' '+ d19['question']\n",
    "d20['add'] = d20['title']+' '+ d20['question']\n",
    "d21['add'] = d21['title']+' '+ d21['question']"
   ]
  },
  {
   "cell_type": "code",
   "execution_count": 82,
   "id": "41e4c8ba-56e5-44eb-88be-91073c6015a5",
   "metadata": {},
   "outputs": [
    {
     "data": {
      "text/plain": [
       "['어떻게 버리',\n",
       " '어떻게 버려',\n",
       " '일반쓰레기',\n",
       " '음식물쓰레기',\n",
       " '분리배출',\n",
       " '배출',\n",
       " '버리기',\n",
       " '버리려',\n",
       " '버려도',\n",
       " '종량제',\n",
       " '쓰레기 어떻게',\n",
       " '어디로 분리',\n",
       " '어디에 버리',\n",
       " '무슨 쓰레기',\n",
       " '일회용품',\n",
       " '재활용',\n",
       " '버릴',\n",
       " '분리수거',\n",
       " '버리는',\n",
       " '일회용',\n",
       " '1회용']"
      ]
     },
     "execution_count": 82,
     "metadata": {},
     "output_type": "execute_result"
    }
   ],
   "source": [
    "# keyword for filtering the dataset was listed\n",
    "# by setting these keywords, we can only select the data which are related to the topic\n",
    "with open('recycle_filter.txt','r', encoding='utf-8') as f:\n",
    "    keywords = f.read().split('\\n')\n",
    "    \n",
    "keywords"
   ]
  },
  {
   "cell_type": "code",
   "execution_count": 83,
   "id": "0f852c4c-2420-4e54-b4d5-ded4b93158dd",
   "metadata": {},
   "outputs": [],
   "source": [
    "with open('recycle_filter.txt','r', encoding='utf-8') as f:\n",
    "    keywords = f.read().split('\\n')\n",
    "\n",
    "def is_re(df):\n",
    "    is_re = []\n",
    "    L = df['add'].to_list()\n",
    "    for l in L:\n",
    "        cnt = 0\n",
    "        for k in keywords:\n",
    "            if k in l:\n",
    "                cnt += 1\n",
    "        if cnt == 0:\n",
    "            is_re.append('not')\n",
    "        else:\n",
    "            is_re.append('re')\n",
    "    return is_re\n",
    "    \n",
    "    \n",
    "d17['is_re'] = is_re(d17)\n",
    "d18['is_re'] = is_re(d18)\n",
    "d19['is_re'] = is_re(d19)\n",
    "d20['is_re'] = is_re(d20)\n",
    "d21['is_re'] = is_re(d21)"
   ]
  },
  {
   "cell_type": "code",
   "execution_count": 84,
   "id": "03a83c2c-661f-4348-b696-eabd6b9297d7",
   "metadata": {},
   "outputs": [
    {
     "name": "stdout",
     "output_type": "stream",
     "text": [
      "3003 1836 2582 4286 3962\n"
     ]
    }
   ],
   "source": [
    "print(len(d17[d17['is_re'] == 're']),len(d18[d18['is_re'] == 're']),len(d19[d19['is_re'] == 're']),len(d20[d20['is_re'] == 're']),len(d21[d21['is_re'] == 're']))"
   ]
  },
  {
   "cell_type": "code",
   "execution_count": 85,
   "id": "851c70a4-c8af-4dc2-900d-e8717f63e03c",
   "metadata": {},
   "outputs": [],
   "source": [
    "re17 = d17[d17['is_re'] == 're']\n",
    "re18 = d18[d18['is_re'] == 're']\n",
    "re19 = d19[d19['is_re'] == 're']\n",
    "re20 = d20[d20['is_re'] == 're']\n",
    "re21 = d21[d21['is_re'] == 're']"
   ]
  },
  {
   "cell_type": "markdown",
   "id": "149cd40e-cf25-4e11-87d3-7c388ef8c698",
   "metadata": {},
   "source": [
    "## 2.2 Text preprocessing"
   ]
  },
  {
   "cell_type": "code",
   "execution_count": 86,
   "id": "d67b7c0f-62da-42c8-8993-eb329518bb44",
   "metadata": {
    "tags": []
   },
   "outputs": [
    {
     "name": "stderr",
     "output_type": "stream",
     "text": [
      "<ipython-input-86-b812a08f5f81>:45: SettingWithCopyWarning: \n",
      "A value is trying to be set on a copy of a slice from a DataFrame.\n",
      "Try using .loc[row_indexer,col_indexer] = value instead\n",
      "\n",
      "See the caveats in the documentation: https://pandas.pydata.org/pandas-docs/stable/user_guide/indexing.html#returning-a-view-versus-a-copy\n",
      "  df['t_tok'] = replace(df['title'].to_list())\n",
      "<ipython-input-86-b812a08f5f81>:46: SettingWithCopyWarning: \n",
      "A value is trying to be set on a copy of a slice from a DataFrame.\n",
      "Try using .loc[row_indexer,col_indexer] = value instead\n",
      "\n",
      "See the caveats in the documentation: https://pandas.pydata.org/pandas-docs/stable/user_guide/indexing.html#returning-a-view-versus-a-copy\n",
      "  df['tok'] = replace(df['add'].to_list())\n"
     ]
    }
   ],
   "source": [
    "#pre processing\n",
    "import re\n",
    "import math\n",
    "\n",
    "def cleansing_rp(text):\n",
    "    repl = ' '\n",
    "    pattern = '([a-zA-Z0-9_.+-]+@[a-zA-Z0-9-]+\\.[a-zA-Z0-9-.]+)'\n",
    "    text = re.sub(pattern= pattern, repl=repl, string=text)\n",
    "    pattern = '([ㄱ-ㅎㅏ-ㅣ]+)'\n",
    "    text = re.sub(pattern= pattern, repl=repl, string=text)\n",
    "    pattern = '[^\\w\\s]'\n",
    "    text = re.sub(pattern= pattern, repl=repl, string=text)\n",
    "    pattern = '<[^>]*>'\n",
    "    text = re.sub(pattern = pattern, repl=' ',string=text)\n",
    "    pattern = '[0-9]'\n",
    "    text = re.sub(pattern = pattern, repl=' ',string=text)\n",
    "    pattern = '[a-zA-Z]'\n",
    "    text = re.sub(pattern = pattern, repl=' ',string=text)\n",
    "    pattern = '[一-龥]'\n",
    "    text = re.sub(pattern= pattern, repl=repl, string=text)\n",
    "    pattern = '[0-9]{4}년'\n",
    "    text = re.sub(pattern= pattern, repl=repl, string=text)\n",
    "    pattern = '[0-9]월'\n",
    "    text = re.sub(pattern= pattern, repl=repl, string=text)\n",
    "    pattern = '[0-9]일'\n",
    "    text = re.sub(pattern= pattern, repl=repl, string=text)\n",
    "\n",
    "    return text\n",
    "\n",
    "def replace(input):\n",
    "    sentences = []\n",
    "    for c in input:\n",
    "        try:\n",
    "            sentences.append(cleansing_rp(c.replace(\"\\n\", \" \").replace(\"\\r\", \" \")))\n",
    "        except:\n",
    "            sentences.append('None')\n",
    "\n",
    "    if len(input) == len(sentences):\n",
    "        return sentences\n",
    "    else:\n",
    "        return sentences\n",
    "\n",
    "\n",
    "def main(df):\n",
    "    df['t_tok'] = replace(df['title'].to_list())\n",
    "    df['tok'] = replace(df['add'].to_list())\n",
    "\n",
    "df_list = [re17, re18, re19, re20, re21]\n",
    "for d in df_list:\n",
    "    main(d)\n",
    "    d = d[['is_re','title','question','add','t_tok','tok']]"
   ]
  },
  {
   "cell_type": "code",
   "execution_count": 87,
   "id": "6ab987a2-02dd-4aa3-8789-232feafc2e4d",
   "metadata": {},
   "outputs": [
    {
     "data": {
      "text/html": [
       "<div>\n",
       "<style scoped>\n",
       "    .dataframe tbody tr th:only-of-type {\n",
       "        vertical-align: middle;\n",
       "    }\n",
       "\n",
       "    .dataframe tbody tr th {\n",
       "        vertical-align: top;\n",
       "    }\n",
       "\n",
       "    .dataframe thead th {\n",
       "        text-align: right;\n",
       "    }\n",
       "</style>\n",
       "<table border=\"1\" class=\"dataframe\">\n",
       "  <thead>\n",
       "    <tr style=\"text-align: right;\">\n",
       "      <th></th>\n",
       "      <th>date</th>\n",
       "      <th>title</th>\n",
       "      <th>question</th>\n",
       "      <th>add</th>\n",
       "      <th>is_re</th>\n",
       "      <th>t_tok</th>\n",
       "      <th>tok</th>\n",
       "    </tr>\n",
       "  </thead>\n",
       "  <tbody>\n",
       "    <tr>\n",
       "      <th>3</th>\n",
       "      <td>2017.01.31</td>\n",
       "      <td>생쌀은 음식물 쓰레기인가요?</td>\n",
       "      <td>생쌀및 잡곡류가 음식물 쓰레기인가요?\\n오래된 쌀과 잡곡이 있는데 버려야해요\\n찾아...</td>\n",
       "      <td>생쌀은 음식물 쓰레기인가요? 생쌀및 잡곡류가 음식물 쓰레기인가요?\\n오래된 쌀과 잡...</td>\n",
       "      <td>re</td>\n",
       "      <td>생쌀은 음식물 쓰레기인가요</td>\n",
       "      <td>생쌀은 음식물 쓰레기인가요  생쌀및 잡곡류가 음식물 쓰레기인가요  오래된 쌀과 잡곡...</td>\n",
       "    </tr>\n",
       "    <tr>\n",
       "      <th>4</th>\n",
       "      <td>2017.01.31</td>\n",
       "      <td>영어 한문장 해석좀요</td>\n",
       "      <td>in your opinion, is the following statement tr...</td>\n",
       "      <td>영어 한문장 해석좀요 in your opinion, is the following ...</td>\n",
       "      <td>re</td>\n",
       "      <td>영어 한문장 해석좀요</td>\n",
       "      <td>영어 한문장 해석좀요                                   ...</td>\n",
       "    </tr>\n",
       "    <tr>\n",
       "      <th>7</th>\n",
       "      <td>2017.01.31</td>\n",
       "      <td>안쓰는 가구 및 가전제품 처리방법 질문입니다.</td>\n",
       "      <td>집에 안쓰고 방치된 물건이 너무 많아서 일단 생각나는 대로 목록을 써봤습니다.\\n생...</td>\n",
       "      <td>안쓰는 가구 및 가전제품 처리방법 질문입니다. 집에 안쓰고 방치된 물건이 너무 많아...</td>\n",
       "      <td>re</td>\n",
       "      <td>안쓰는 가구 및 가전제품 처리방법 질문입니다</td>\n",
       "      <td>안쓰는 가구 및 가전제품 처리방법 질문입니다  집에 안쓰고 방치된 물건이 너무 많아...</td>\n",
       "    </tr>\n",
       "    <tr>\n",
       "      <th>11</th>\n",
       "      <td>2017.01.31</td>\n",
       "      <td>나일론 66 제거 방법이 궁금합니다.\\n\\n철제 부품에 나일론 66 재질을 사출하여...</td>\n",
       "      <td>... 시 재활용 가능한가요!? 사이즈는 그렇게 크지... 미국에서 물건 수입시 같...</td>\n",
       "      <td>나일론 66 제거 방법이 궁금합니다.\\n\\n철제 부품에 나일론 66 재질을 사출하여...</td>\n",
       "      <td>re</td>\n",
       "      <td>나일론    제거 방법이 궁금합니다   철제 부품에 나일론    재질을 사출하여 입...</td>\n",
       "      <td>나일론    제거 방법이 궁금합니다   철제 부품에 나일론    재질을 사출하여 입...</td>\n",
       "    </tr>\n",
       "    <tr>\n",
       "      <th>12</th>\n",
       "      <td>2017.01.31</td>\n",
       "      <td>HDD의 응답속도가 0MB/s인 제품은 뭐가고장난건가요?</td>\n",
       "      <td>\\n 위 사진과 같이 베드섹터는 0인데 가운데부분 응답속도가 굉장히 느린 섹터들이...</td>\n",
       "      <td>HDD의 응답속도가 0MB/s인 제품은 뭐가고장난건가요?  \\n 위 사진과 같이 베...</td>\n",
       "      <td>re</td>\n",
       "      <td>의 응답속도가      인 제품은 뭐가고장난건가요</td>\n",
       "      <td>의 응답속도가      인 제품은 뭐가고장난건가요     위 사진과 같이 베드...</td>\n",
       "    </tr>\n",
       "    <tr>\n",
       "      <th>...</th>\n",
       "      <td>...</td>\n",
       "      <td>...</td>\n",
       "      <td>...</td>\n",
       "      <td>...</td>\n",
       "      <td>...</td>\n",
       "      <td>...</td>\n",
       "      <td>...</td>\n",
       "    </tr>\n",
       "    <tr>\n",
       "      <th>6106</th>\n",
       "      <td>2017.12.22</td>\n",
       "      <td>Lg pdp 42인치 tv입니다..열받으면 꺼지는증상</td>\n",
       "      <td>한참 보고있으면 화면이 꺼집니다..그냥은 안켜지고..전원코드를 뺏다가 다시 꼽으면 ...</td>\n",
       "      <td>Lg pdp 42인치 tv입니다..열받으면 꺼지는증상 한참 보고있으면 화면이 꺼집니...</td>\n",
       "      <td>re</td>\n",
       "      <td>인치   입니다  열받으면 꺼지는증상</td>\n",
       "      <td>인치   입니다  열받으면 꺼지는증상 한참 보고있으면 화면이 꺼집니...</td>\n",
       "    </tr>\n",
       "    <tr>\n",
       "      <th>6111</th>\n",
       "      <td>2017.11.09</td>\n",
       "      <td>합법음식물처리기</td>\n",
       "      <td>한국상하수도협회에서 하수구배출이 가능한 합법적인 음식물처리기 추천해주세요. 수거 조...</td>\n",
       "      <td>합법음식물처리기 한국상하수도협회에서 하수구배출이 가능한 합법적인 음식물처리기 추천해...</td>\n",
       "      <td>re</td>\n",
       "      <td>합법음식물처리기</td>\n",
       "      <td>합법음식물처리기 한국상하수도협회에서 하수구배출이 가능한 합법적인 음식물처리기 추천해...</td>\n",
       "    </tr>\n",
       "    <tr>\n",
       "      <th>6113</th>\n",
       "      <td>2017.02.18</td>\n",
       "      <td>장백 거영 가마솥국밥집에 대해....</td>\n",
       "      <td>안녕하세요..\\n장백 거영 가마솥 국밥집에 대해 글 올립니다...\\n다른게 아니...</td>\n",
       "      <td>장백 거영 가마솥국밥집에 대해....   안녕하세요..\\n장백 거영 가마솥 국밥집에...</td>\n",
       "      <td>re</td>\n",
       "      <td>장백 거영 가마솥국밥집에 대해</td>\n",
       "      <td>장백 거영 가마솥국밥집에 대해       안녕하세요   장백 거영 가마솥 국밥집에 ...</td>\n",
       "    </tr>\n",
       "    <tr>\n",
       "      <th>6114</th>\n",
       "      <td>2017.02.17</td>\n",
       "      <td>집에서 조개구이를 먹을수있게하는 도구를 알려주세요</td>\n",
       "      <td>아래사진은 집에서 조개구이를 먹을수 있게 해주는 도구인데요.근데 이도구의 이름을 몰...</td>\n",
       "      <td>집에서 조개구이를 먹을수있게하는 도구를 알려주세요 아래사진은 집에서 조개구이를 먹을...</td>\n",
       "      <td>re</td>\n",
       "      <td>집에서 조개구이를 먹을수있게하는 도구를 알려주세요</td>\n",
       "      <td>집에서 조개구이를 먹을수있게하는 도구를 알려주세요 아래사진은 집에서 조개구이를 먹을...</td>\n",
       "    </tr>\n",
       "    <tr>\n",
       "      <th>6121</th>\n",
       "      <td>2017.05.12</td>\n",
       "      <td>쓰레기봉투에 버린걸 분리수거해야되나요?</td>\n",
       "      <td>제가 어제 창고정리를하다 쓰레기가 많이나와서 100리터짜리 쓰레기봉투에 따로 분리수...</td>\n",
       "      <td>쓰레기봉투에 버린걸 분리수거해야되나요? 제가 어제 창고정리를하다 쓰레기가 많이나와서...</td>\n",
       "      <td>re</td>\n",
       "      <td>쓰레기봉투에 버린걸 분리수거해야되나요</td>\n",
       "      <td>쓰레기봉투에 버린걸 분리수거해야되나요  제가 어제 창고정리를하다 쓰레기가 많이나와서...</td>\n",
       "    </tr>\n",
       "  </tbody>\n",
       "</table>\n",
       "<p>3003 rows × 7 columns</p>\n",
       "</div>"
      ],
      "text/plain": [
       "            date                                              title  \\\n",
       "3     2017.01.31                                    생쌀은 음식물 쓰레기인가요?   \n",
       "4     2017.01.31                                        영어 한문장 해석좀요   \n",
       "7     2017.01.31                          안쓰는 가구 및 가전제품 처리방법 질문입니다.   \n",
       "11    2017.01.31  나일론 66 제거 방법이 궁금합니다.\\n\\n철제 부품에 나일론 66 재질을 사출하여...   \n",
       "12    2017.01.31                    HDD의 응답속도가 0MB/s인 제품은 뭐가고장난건가요?   \n",
       "...          ...                                                ...   \n",
       "6106  2017.12.22                      Lg pdp 42인치 tv입니다..열받으면 꺼지는증상   \n",
       "6111  2017.11.09                                           합법음식물처리기   \n",
       "6113  2017.02.18                               장백 거영 가마솥국밥집에 대해....   \n",
       "6114  2017.02.17                        집에서 조개구이를 먹을수있게하는 도구를 알려주세요   \n",
       "6121  2017.05.12                              쓰레기봉투에 버린걸 분리수거해야되나요?   \n",
       "\n",
       "                                               question  \\\n",
       "3     생쌀및 잡곡류가 음식물 쓰레기인가요?\\n오래된 쌀과 잡곡이 있는데 버려야해요\\n찾아...   \n",
       "4     in your opinion, is the following statement tr...   \n",
       "7     집에 안쓰고 방치된 물건이 너무 많아서 일단 생각나는 대로 목록을 써봤습니다.\\n생...   \n",
       "11    ... 시 재활용 가능한가요!? 사이즈는 그렇게 크지... 미국에서 물건 수입시 같...   \n",
       "12     \\n 위 사진과 같이 베드섹터는 0인데 가운데부분 응답속도가 굉장히 느린 섹터들이...   \n",
       "...                                                 ...   \n",
       "6106  한참 보고있으면 화면이 꺼집니다..그냥은 안켜지고..전원코드를 뺏다가 다시 꼽으면 ...   \n",
       "6111  한국상하수도협회에서 하수구배출이 가능한 합법적인 음식물처리기 추천해주세요. 수거 조...   \n",
       "6113    안녕하세요..\\n장백 거영 가마솥 국밥집에 대해 글 올립니다...\\n다른게 아니...   \n",
       "6114  아래사진은 집에서 조개구이를 먹을수 있게 해주는 도구인데요.근데 이도구의 이름을 몰...   \n",
       "6121  제가 어제 창고정리를하다 쓰레기가 많이나와서 100리터짜리 쓰레기봉투에 따로 분리수...   \n",
       "\n",
       "                                                    add is_re  \\\n",
       "3     생쌀은 음식물 쓰레기인가요? 생쌀및 잡곡류가 음식물 쓰레기인가요?\\n오래된 쌀과 잡...    re   \n",
       "4     영어 한문장 해석좀요 in your opinion, is the following ...    re   \n",
       "7     안쓰는 가구 및 가전제품 처리방법 질문입니다. 집에 안쓰고 방치된 물건이 너무 많아...    re   \n",
       "11    나일론 66 제거 방법이 궁금합니다.\\n\\n철제 부품에 나일론 66 재질을 사출하여...    re   \n",
       "12    HDD의 응답속도가 0MB/s인 제품은 뭐가고장난건가요?  \\n 위 사진과 같이 베...    re   \n",
       "...                                                 ...   ...   \n",
       "6106  Lg pdp 42인치 tv입니다..열받으면 꺼지는증상 한참 보고있으면 화면이 꺼집니...    re   \n",
       "6111  합법음식물처리기 한국상하수도협회에서 하수구배출이 가능한 합법적인 음식물처리기 추천해...    re   \n",
       "6113  장백 거영 가마솥국밥집에 대해....   안녕하세요..\\n장백 거영 가마솥 국밥집에...    re   \n",
       "6114  집에서 조개구이를 먹을수있게하는 도구를 알려주세요 아래사진은 집에서 조개구이를 먹을...    re   \n",
       "6121  쓰레기봉투에 버린걸 분리수거해야되나요? 제가 어제 창고정리를하다 쓰레기가 많이나와서...    re   \n",
       "\n",
       "                                                  t_tok  \\\n",
       "3                                       생쌀은 음식물 쓰레기인가요    \n",
       "4                                           영어 한문장 해석좀요   \n",
       "7                             안쓰는 가구 및 가전제품 처리방법 질문입니다    \n",
       "11    나일론    제거 방법이 궁금합니다   철제 부품에 나일론    재질을 사출하여 입...   \n",
       "12                         의 응답속도가      인 제품은 뭐가고장난건가요    \n",
       "...                                                 ...   \n",
       "6106                               인치   입니다  열받으면 꺼지는증상   \n",
       "6111                                           합법음식물처리기   \n",
       "6113                               장백 거영 가마솥국밥집에 대해       \n",
       "6114                        집에서 조개구이를 먹을수있게하는 도구를 알려주세요   \n",
       "6121                              쓰레기봉투에 버린걸 분리수거해야되나요    \n",
       "\n",
       "                                                    tok  \n",
       "3     생쌀은 음식물 쓰레기인가요  생쌀및 잡곡류가 음식물 쓰레기인가요  오래된 쌀과 잡곡...  \n",
       "4     영어 한문장 해석좀요                                   ...  \n",
       "7     안쓰는 가구 및 가전제품 처리방법 질문입니다  집에 안쓰고 방치된 물건이 너무 많아...  \n",
       "11    나일론    제거 방법이 궁금합니다   철제 부품에 나일론    재질을 사출하여 입...  \n",
       "12       의 응답속도가      인 제품은 뭐가고장난건가요     위 사진과 같이 베드...  \n",
       "...                                                 ...  \n",
       "6106           인치   입니다  열받으면 꺼지는증상 한참 보고있으면 화면이 꺼집니...  \n",
       "6111  합법음식물처리기 한국상하수도협회에서 하수구배출이 가능한 합법적인 음식물처리기 추천해...  \n",
       "6113  장백 거영 가마솥국밥집에 대해       안녕하세요   장백 거영 가마솥 국밥집에 ...  \n",
       "6114  집에서 조개구이를 먹을수있게하는 도구를 알려주세요 아래사진은 집에서 조개구이를 먹을...  \n",
       "6121  쓰레기봉투에 버린걸 분리수거해야되나요  제가 어제 창고정리를하다 쓰레기가 많이나와서...  \n",
       "\n",
       "[3003 rows x 7 columns]"
      ]
     },
     "execution_count": 87,
     "metadata": {},
     "output_type": "execute_result"
    }
   ],
   "source": [
    "re17"
   ]
  },
  {
   "cell_type": "markdown",
   "id": "ab0a3db0-b96c-4aa6-a81f-3b7bd4ee8bdf",
   "metadata": {},
   "source": [
    "### Noun extraction"
   ]
  },
  {
   "cell_type": "code",
   "execution_count": 88,
   "id": "d193af1b-5b9b-4014-b700-390d8e06d928",
   "metadata": {},
   "outputs": [],
   "source": [
    "from konlpy.tag import Okt \n",
    "import numpy as np\n",
    "okt = Okt()"
   ]
  },
  {
   "cell_type": "code",
   "execution_count": 4,
   "id": "cec91cde-6a59-4dcb-8ea7-68065125bf73",
   "metadata": {
    "tags": []
   },
   "outputs": [],
   "source": [
    "import pandas as pd\n",
    "re17 = pd.read_csv('re17.csv')\n",
    "re18 = pd.read_csv('re18.csv')\n",
    "re19 = pd.read_csv('re19.csv')\n",
    "re20 = pd.read_csv('re20.csv')\n",
    "re21 = pd.read_csv('re21.csv')"
   ]
  },
  {
   "cell_type": "code",
   "execution_count": 89,
   "id": "95d4f21b-1758-4943-8467-01032f4a8353",
   "metadata": {},
   "outputs": [
    {
     "name": "stderr",
     "output_type": "stream",
     "text": [
      "100%|█████████████████████████████████████████████████████████████████████████████| 1836/1836 [00:14<00:00, 126.89it/s]\n",
      "<ipython-input-89-7a92decab720>:26: SettingWithCopyWarning: \n",
      "A value is trying to be set on a copy of a slice from a DataFrame.\n",
      "Try using .loc[row_indexer,col_indexer] = value instead\n",
      "\n",
      "See the caveats in the documentation: https://pandas.pydata.org/pandas-docs/stable/user_guide/indexing.html#returning-a-view-versus-a-copy\n",
      "  df['noun_tok'] = noun_tok\n",
      "100%|█████████████████████████████████████████████████████████████████████████████| 2582/2582 [00:16<00:00, 153.96it/s]\n",
      "100%|█████████████████████████████████████████████████████████████████████████████| 4286/4286 [00:22<00:00, 187.14it/s]\n",
      "100%|█████████████████████████████████████████████████████████████████████████████| 3962/3962 [00:20<00:00, 191.37it/s]\n"
     ]
    }
   ],
   "source": [
    "from tqdm import tqdm\n",
    "import time\n",
    "\n",
    "def n_extract(df):\n",
    "    contents = df['tok'].to_list()\n",
    "    for i in range(len(contents)):\n",
    "        contents[i] = str(contents[i])\n",
    "        \n",
    "    noun_tokenized = []\n",
    "    for i in tqdm(range(0, len(contents))):\n",
    "        #time.sleep(0.05)\n",
    "        contents[i] = okt.nouns(str(contents[i]))\n",
    "        token_list = []\n",
    "        for t in contents[i]:\n",
    "            if len(t) > 1:\n",
    "                token_list.append(t)\n",
    "        noun_tokenized.append(token_list)\n",
    "\n",
    "    noun_tok = []\n",
    "    for i in range(len(noun_tokenized)):\n",
    "        txt = ' '.join(noun_tokenized[i])\n",
    "        noun_tok.append(txt)\n",
    "    \n",
    "    df['noun_tok'] = noun_tok\n",
    "\n",
    "n_extract(re17)\n",
    "n_extract(re18)\n",
    "n_extract(re19)\n",
    "n_extract(re20)\n",
    "n_extract(re21)"
   ]
  },
  {
   "cell_type": "code",
   "execution_count": 45,
   "id": "2024911c-41cf-4eea-ada7-0833b27a81c4",
   "metadata": {
    "tags": []
   },
   "outputs": [],
   "source": [
    "re17.to_csv('re17.csv')\n",
    "re18.to_csv('re18.csv')\n",
    "re19.to_csv('re19.csv')\n",
    "re20.to_csv('re20.csv')\n",
    "re21.to_csv('re21.csv')"
   ]
  },
  {
   "cell_type": "markdown",
   "id": "126abbe1-f55a-4299-afa7-96e86fabc500",
   "metadata": {},
   "source": [
    "# 3. Data Analysis"
   ]
  },
  {
   "cell_type": "markdown",
   "id": "514db4d8-3708-4867-937a-4ba35f313513",
   "metadata": {},
   "source": [
    "## 3.1 Text Complexity"
   ]
  },
  {
   "cell_type": "code",
   "execution_count": 91,
   "id": "97015c86-f450-456d-be2c-f4c9e9affe1a",
   "metadata": {
    "tags": []
   },
   "outputs": [],
   "source": [
    "# Korean Language Education Vocabulary defined by The National Institute of the Korean Language\n",
    "# by adapting these vocabularies to Dale-Chall formula, we can define the range of 'difficult words'\n",
    "vocab = pd.read_excel('한국어교육어휘.xlsx')"
   ]
  },
  {
   "cell_type": "code",
   "execution_count": 92,
   "id": "426da46c-ad33-41f6-a161-287c303e81c0",
   "metadata": {},
   "outputs": [],
   "source": [
    "v = vocab[(vocab['등급'] == '중급')|(vocab['등급'] == '고급')]\n",
    "v = v[v['품사'] == '명사']\n",
    "v = v[['등급','어휘']]"
   ]
  },
  {
   "cell_type": "code",
   "execution_count": 95,
   "id": "e7c5e20c-6982-420d-8569-ab35d4c653db",
   "metadata": {},
   "outputs": [
    {
     "data": {
      "text/html": [
       "<div>\n",
       "<style scoped>\n",
       "    .dataframe tbody tr th:only-of-type {\n",
       "        vertical-align: middle;\n",
       "    }\n",
       "\n",
       "    .dataframe tbody tr th {\n",
       "        vertical-align: top;\n",
       "    }\n",
       "\n",
       "    .dataframe thead th {\n",
       "        text-align: right;\n",
       "    }\n",
       "</style>\n",
       "<table border=\"1\" class=\"dataframe\">\n",
       "  <thead>\n",
       "    <tr style=\"text-align: right;\">\n",
       "      <th></th>\n",
       "      <th>등급</th>\n",
       "      <th>어휘</th>\n",
       "    </tr>\n",
       "  </thead>\n",
       "  <tbody>\n",
       "    <tr>\n",
       "      <th>0</th>\n",
       "      <td>고급</td>\n",
       "      <td>가</td>\n",
       "    </tr>\n",
       "    <tr>\n",
       "      <th>1</th>\n",
       "      <td>고급</td>\n",
       "      <td>가계</td>\n",
       "    </tr>\n",
       "    <tr>\n",
       "      <th>2</th>\n",
       "      <td>고급</td>\n",
       "      <td>가곡</td>\n",
       "    </tr>\n",
       "    <tr>\n",
       "      <th>3</th>\n",
       "      <td>고급</td>\n",
       "      <td>가공</td>\n",
       "    </tr>\n",
       "    <tr>\n",
       "      <th>4</th>\n",
       "      <td>고급</td>\n",
       "      <td>가구</td>\n",
       "    </tr>\n",
       "    <tr>\n",
       "      <th>...</th>\n",
       "      <td>...</td>\n",
       "      <td>...</td>\n",
       "    </tr>\n",
       "    <tr>\n",
       "      <th>5868</th>\n",
       "      <td>고급</td>\n",
       "      <td>희로애락</td>\n",
       "    </tr>\n",
       "    <tr>\n",
       "      <th>5869</th>\n",
       "      <td>중급</td>\n",
       "      <td>희생</td>\n",
       "    </tr>\n",
       "    <tr>\n",
       "      <th>5870</th>\n",
       "      <td>중급</td>\n",
       "      <td>희생</td>\n",
       "    </tr>\n",
       "    <tr>\n",
       "      <th>5871</th>\n",
       "      <td>고급</td>\n",
       "      <td>희소식</td>\n",
       "    </tr>\n",
       "    <tr>\n",
       "      <th>5872</th>\n",
       "      <td>고급</td>\n",
       "      <td>힌트</td>\n",
       "    </tr>\n",
       "  </tbody>\n",
       "</table>\n",
       "<p>5873 rows × 2 columns</p>\n",
       "</div>"
      ],
      "text/plain": [
       "      등급    어휘\n",
       "0     고급     가\n",
       "1     고급    가계\n",
       "2     고급    가곡\n",
       "3     고급    가공\n",
       "4     고급    가구\n",
       "...   ..   ...\n",
       "5868  고급  희로애락\n",
       "5869  중급    희생\n",
       "5870  중급    희생\n",
       "5871  고급   희소식\n",
       "5872  고급    힌트\n",
       "\n",
       "[5873 rows x 2 columns]"
      ]
     },
     "execution_count": 95,
     "metadata": {},
     "output_type": "execute_result"
    }
   ],
   "source": [
    "def v_text(df):\n",
    "    vlist = df['어휘'].to_list()\n",
    "    for v in range(len(vlist)):\n",
    "        vlist[v] = \"\".join(re.findall(\"[ㄱ-ㅣ가-힣]+\", vlist[v]))\n",
    "    df['어휘'] = vlist\n",
    "    \n",
    "    return df\n",
    "    \n",
    "\n",
    "V = v_text(v).reset_index()[['등급','어휘']]\n",
    "V"
   ]
  },
  {
   "cell_type": "code",
   "execution_count": 137,
   "id": "eaa06ead-fdc8-4538-b499-741976262328",
   "metadata": {
    "tags": []
   },
   "outputs": [
    {
     "name": "stderr",
     "output_type": "stream",
     "text": [
      "100%|██████████████████████████████████████████████████████████████████████████████| 3003/3003 [47:32<00:00,  1.05it/s]\n",
      "100%|██████████████████████████████████████████████████████████████████████████████| 1836/1836 [29:40<00:00,  1.03it/s]\n",
      "100%|██████████████████████████████████████████████████████████████████████████████| 2582/2582 [45:09<00:00,  1.05s/it]\n",
      "100%|████████████████████████████████████████████████████████████████████████████| 4286/4286 [1:12:11<00:00,  1.01s/it]\n",
      " 78%|████████████████████████████████████████████████████████████▊                 | 3089/3962 [38:14<11:26,  1.27it/s][Korean Sentence Splitter]: Too long text! turn off quotes calibration!\n",
      " 81%|█████████████████████████████████████████████████████████████▏              | 3193/3962 [1:04:13<04:55,  2.60it/s][Korean Sentence Splitter]: Too long text! turn off quotes calibration!\n",
      "100%|████████████████████████████████████████████████████████████████████████████| 3962/3962 [1:35:42<00:00,  1.45s/it]\n"
     ]
    }
   ],
   "source": [
    "#calculating complexity scores(Rd) for each year's data\n",
    "from tqdm import tqdm\n",
    "import time\n",
    "import kss\n",
    "\n",
    "def comp_cal(s, vlist):\n",
    "    cnt = 0\n",
    "    for i in vlist:\n",
    "        for v in s:\n",
    "            cnt += v.count(s)     \n",
    "    return cnt\n",
    "\n",
    "\n",
    "def calculate(df):\n",
    "    n = 0\n",
    "    df_noun = df['noun_tok'].to_list()\n",
    "    df_add = df['add'].to_list()\n",
    "    vlist = V['어휘']\n",
    "    rd_add = 0\n",
    "    \n",
    "    for i in tqdm(range(len(df))):\n",
    "        if (str(df_noun[i]) == 'nan') | (len(str(df_noun[i])) == 0):\n",
    "            n += 1\n",
    "            continue\n",
    "        elif str(df_add[i]) == 'nan':\n",
    "            n += 1\n",
    "            continue\n",
    "\n",
    "        comp = comp_cal(df_noun[i], vlist)\n",
    "        w = len(df_noun[i].split())\n",
    "        try:\n",
    "            sent = len(kss.split_sentences(df_add[i].replace('\\n','').replace('\\s','')))\n",
    "        except:\n",
    "            n += 1 \n",
    "            continue\n",
    "            \n",
    "        Rd = 0.1579*(comp/w * 100) + 0.0496*(w/sent) + 3.6365\n",
    "        rd_add += Rd\n",
    "        \n",
    "    return rd_add, n\n",
    "\n",
    "rd17, n17 = calculate(re17)\n",
    "cal17 = rd17 / (len(re17) - n17)\n",
    "\n",
    "rd18, n18 = calculate(re18)\n",
    "cal18 = rd18 / (len(re18) - n18)\n",
    "\n",
    "rd19, n19 = calculate(re19)\n",
    "cal19 = rd19 / (len(re19) - n19)\n",
    "\n",
    "rd20, n20 = calculate(re20)\n",
    "cal20 = rd20 / (len(re20) - n20)\n",
    "\n",
    "rd21, n21 = calculate(re21)\n",
    "cal21 = rd21 / (len(re21) - n21)"
   ]
  },
  {
   "cell_type": "code",
   "execution_count": 146,
   "id": "0d826e1d-ff6e-4760-bbdd-69fc025a938d",
   "metadata": {},
   "outputs": [
    {
     "name": "stdout",
     "output_type": "stream",
     "text": [
      "3.9464297151350296 3.9651452961616003 3.9586410601901236 3.9483498935679617 3.9469624862705386\n"
     ]
    }
   ],
   "source": [
    "print(cal17, cal18, cal19, cal20, cal21)"
   ]
  },
  {
   "cell_type": "markdown",
   "id": "ed902dc4-ee72-493d-a288-3db0c78e1439",
   "metadata": {},
   "source": [
    "## 3.2 Text Entropy"
   ]
  },
  {
   "cell_type": "code",
   "execution_count": 30,
   "id": "ca0fd670-9605-41b1-a266-1839c744d251",
   "metadata": {},
   "outputs": [
    {
     "name": "stdout",
     "output_type": "stream",
     "text": [
      "Requirement already satisfied: kss in c:\\users\\niuser01\\anaconda3\\lib\\site-packages (3.3.1.1)\n",
      "Requirement already satisfied: emoji in c:\\users\\niuser01\\anaconda3\\lib\\site-packages (from kss) (1.6.1)\n"
     ]
    }
   ],
   "source": [
    "!pip install kss --upgrade"
   ]
  },
  {
   "cell_type": "code",
   "execution_count": 141,
   "id": "21244c61-6cc8-4549-9c07-373005bc5f82",
   "metadata": {},
   "outputs": [
    {
     "name": "stderr",
     "output_type": "stream",
     "text": [
      "  0%|                                                                                         | 0/3003 [00:00<?, ?it/s]<ipython-input-141-d49b305c8767>:19: DeprecationWarning: Calling np.sum(generator) is deprecated, and in the future will give a different result. Use np.sum(np.fromiter(generator)) or the python sum builtin instead.\n",
      "  return sum(freq / total * log2(total / freq) for freq in boe.values())\n",
      "100%|███████████████████████████████████████████████████████████████████████████| 3003/3003 [00:00<00:00, 24884.61it/s]\n",
      "100%|███████████████████████████████████████████████████████████████████████████| 1836/1836 [00:00<00:00, 24867.82it/s]\n",
      "100%|███████████████████████████████████████████████████████████████████████████| 2582/2582 [00:00<00:00, 27541.40it/s]\n",
      "100%|███████████████████████████████████████████████████████████████████████████| 4286/4286 [00:00<00:00, 31586.21it/s]\n",
      "100%|███████████████████████████████████████████████████████████████████████████| 3962/3962 [00:00<00:00, 31516.92it/s]\n"
     ]
    }
   ],
   "source": [
    "from tqdm import tqdm\n",
    "import time\n",
    "from math import log2\n",
    "\n",
    "#preprocessing the dataset as dictionary form for entropy formula\n",
    "def word_dic(s):\n",
    "    word_dic = {}\n",
    "    for w in s.split():\n",
    "        if w in word_dic.keys():\n",
    "            word_dic[w] += 1\n",
    "        else:\n",
    "            word_dic[w] = 1\n",
    "            \n",
    "    return word_dic\n",
    "\n",
    "#calculating shannon entropy\n",
    "def shannon(boe):\n",
    "    total = sum(list(boe.values())) \n",
    "    return sum(freq / total * log2(total / freq) for freq in boe.values())\n",
    "\n",
    "#main function\n",
    "def entropy_main(df):\n",
    "    n = 0\n",
    "    df_noun = df['noun_tok'].to_list()\n",
    "    rd_add = 0\n",
    "\n",
    "    for i in tqdm(range(len(df))):\n",
    "        if str(df_noun[i]) == 'nan':\n",
    "            n += 1\n",
    "            continue\n",
    "        wd = word_dic(df_noun[i])\n",
    "        entro = shannon(wd)\n",
    "        \n",
    "    return entro\n",
    "    \n",
    "e17 = entropy_main(re17)\n",
    "e18 = entropy_main(re18)\n",
    "e19 = entropy_main(re19)\n",
    "e20 = entropy_main(re20)\n",
    "e21 = entropy_main(re21)"
   ]
  },
  {
   "cell_type": "code",
   "execution_count": 148,
   "id": "2fb1095e-d677-4c97-bec7-9d479b499805",
   "metadata": {},
   "outputs": [
    {
     "name": "stdout",
     "output_type": "stream",
     "text": [
      "3.4790795706241733 3.5840123702119344 4.349191770915039 3.875 3.3927474104487847\n"
     ]
    }
   ],
   "source": [
    "print(e17, e18, e19, e20, e21)"
   ]
  },
  {
   "cell_type": "markdown",
   "id": "23caecaa-5c8a-4804-a986-7c725e75af64",
   "metadata": {},
   "source": [
    "## 4. Time series visualization"
   ]
  },
  {
   "cell_type": "code",
   "execution_count": 142,
   "id": "0fe95886-314f-42d6-82c3-8824eb6cd8d4",
   "metadata": {},
   "outputs": [],
   "source": [
    "from sklearn.preprocessing import minmax_scale\n",
    "from pylab import *"
   ]
  },
  {
   "cell_type": "code",
   "execution_count": 147,
   "id": "2ddd6458-c71e-4db3-8c09-b28f377f0ab2",
   "metadata": {
    "tags": []
   },
   "outputs": [
    {
     "data": {
      "text/plain": [
       "Text(0.5, 0, 'year')"
      ]
     },
     "execution_count": 147,
     "metadata": {},
     "output_type": "execute_result"
    },
    {
     "data": {
      "image/png": "[encoded data removed]",
      "text/plain": [
       "<Figure size 432x288 with 1 Axes>"
      ]
     },
     "metadata": {
      "needs_background": "light"
     },
     "output_type": "display_data"
    }
   ],
   "source": [
    "# entropy and complexity were normalized by minmaxscale\n",
    "year = ['2017','2018','2019','2020','2021']\n",
    "e = [e17, e18, e19, e20, e21]\n",
    "c = [cal17, cal18, cal19, cal20, cal21]\n",
    "\n",
    "plt.plot(year, minmax_scale(e))\n",
    "plt.plot(year, minmax_scale(c))\n",
    "plt.legend(['entropy','complexity'])\n",
    "plt.xlabel('year')"
   ]
  }
 ],
 "metadata": {
  "kernelspec": {
   "display_name": "Python 3 (ipykernel)",
   "language": "python",
   "name": "python3"
  },
  "language_info": {
   "codemirror_mode": {
    "name": "ipython",
    "version": 3
   },
   "file_extension": ".py",
   "mimetype": "text/x-python",
   "name": "python",
   "nbconvert_exporter": "python",
   "pygments_lexer": "ipython3",
   "version": "3.8.8"
  }
 },
 "nbformat": 4,
 "nbformat_minor": 5
}
